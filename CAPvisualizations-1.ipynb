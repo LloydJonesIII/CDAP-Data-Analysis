{
 "cells": [
  {
   "cell_type": "code",
   "execution_count": 37,
   "metadata": {},
   "outputs": [],
   "source": [
    "import numpy as np\n",
    "import pandas as pd \n",
    "import plotly.express as px\n",
    "from statsmodels.tsa.seasonal import STL\n",
    "from scipy import stats\n",
    "from datetime import datetime"
   ]
  },
  {
   "cell_type": "code",
   "execution_count": 38,
   "metadata": {},
   "outputs": [],
   "source": [
    "RAW = pd.read_csv('https://raw.githubusercontent.com/CSSEGISandData/COVID-19/master/csse_covid_19_data/csse_covid_19_time_series/time_series_covid19_confirmed_US.csv')"
   ]
  },
  {
   "cell_type": "code",
   "execution_count": 39,
   "metadata": {},
   "outputs": [],
   "source": [
    "RAW1 = pd.read_csv('https://raw.githubusercontent.com/CSSEGISandData/COVID-19/master/csse_covid_19_data/csse_covid_19_time_series/time_series_covid19_deaths_US.csv')"
   ]
  },
  {
   "cell_type": "code",
   "execution_count": 40,
   "metadata": {},
   "outputs": [],
   "source": [
    "def parsedata(state, RAW):\n",
    "    \"\"\"\n",
    "    Function parses data for use in a later function \n",
    "        :param input: ['State_Name'] , [Raw DF Name] \n",
    "        :param state: Any state name can be named, Capitalized \n",
    "        :param vers: Col names are County names + State totals \n",
    "        :return: dataframe formatted to use in the next function \n",
    "    \"\"\"\n",
    "\n",
    "    a = RAW[RAW['Province_State'] == state]\n",
    "    # sets a filtered data frame from the RAW which only contains data relevant to the referenced state\n",
    "    b1 = a[['Province_State', 'Admin2']].T\n",
    "    b2 = a.iloc[:,11:].T\n",
    "    b2['Date'] =b2.index\n",
    "    state_df = pd.concat([b1, b2], axis=0, ignore_index=True)\n",
    "    state_df.rename(columns=state_df.iloc[1], inplace = True)\n",
    "    # combining and cleaning my dataframes for ML anomaly analysis\n",
    "    state_df= state_df.drop([0,1,2])\n",
    "    # cleaning combined data frame\n",
    "    state_df.rename(columns = {np.nan:'Date'}, inplace = True)\n",
    "    state_df = state_df.set_index('Date', drop = False)\n",
    "    # rename Date column and set index\n",
    "    state_df['State_Cum'] = state_df.drop('Date', axis=1).sum(axis=1)\n",
    "    # create a state cummulative column\n",
    "    state_df['State_Daily'] = state_df['State_Cum'].diff().fillna(value = 0)\n",
    "    # create a state daily column\n",
    "    state_df['Date'] = pd.to_datetime(state_df['Date'])\n",
    "    return state_df"
   ]
  },
  {
   "cell_type": "code",
   "execution_count": 41,
   "metadata": {},
   "outputs": [],
   "source": [
    "md = parsedata('Maryland',RAW)"
   ]
  },
  {
   "cell_type": "code",
   "execution_count": 42,
   "metadata": {},
   "outputs": [],
   "source": [
    "def parsedeath(state, RAW):\n",
    "    a = RAW[RAW['Province_State'] == state]\n",
    "    b1 = a[['Province_State', 'Admin2','Population']].T\n",
    "    b2 = a.iloc[:,12:].T\n",
    "\n",
    "    b2['Date'] =b2.index\n",
    "    state_df = pd.concat([b1, b2], axis=0, ignore_index=True)\n",
    "    state_df.rename(columns=state_df.iloc[1], inplace = True)\n",
    "    state_df= state_df.drop([0,1,2])\n",
    "\n",
    "    state_df.rename(columns = {np.nan:'Date'}, inplace = True)\n",
    "    state_df = state_df.set_index('Date', drop = False)\n",
    "\n",
    "    state_df['State_Cum'] = state_df.drop('Date', axis=1).sum(axis=1)\n",
    "    # create a state cummulative column\n",
    "    state_df['State_Daily'] = state_df['State_Cum'].diff().fillna(value = 0)\n",
    "    # create a state daily column\n",
    "    state_df['Date'] = pd.to_datetime(state_df['Date'])\n",
    "    return state_df, b1"
   ]
  },
  {
   "cell_type": "code",
   "execution_count": 43,
   "metadata": {},
   "outputs": [],
   "source": [
    "mdd,pop = parsedeath('Maryland', RAW1)"
   ]
  },
  {
   "cell_type": "code",
   "execution_count": 44,
   "metadata": {},
   "outputs": [],
   "source": [
    "pop = pop.T"
   ]
  },
  {
   "cell_type": "code",
   "execution_count": 45,
   "metadata": {},
   "outputs": [],
   "source": [
    "pop=pop.rename(columns={'Admin2':'County'})\n",
    "pop=pop.drop('Province_State',axis=1)"
   ]
  },
  {
   "cell_type": "code",
   "execution_count": 46,
   "metadata": {},
   "outputs": [],
   "source": [
    "cases = md[(md['Date'] == \"2023-03-09\")]\n",
    "deaths = mdd[(mdd['Date'] == \"2023-03-09\")]"
   ]
  },
  {
   "cell_type": "code",
   "execution_count": 47,
   "metadata": {},
   "outputs": [],
   "source": [
    "deaths=deaths.reset_index(drop= True)\n",
    "cases=cases.reset_index(drop=True)\n",
    "deaths = deaths.T\n",
    "cases = cases.T"
   ]
  },
  {
   "cell_type": "code",
   "execution_count": 48,
   "metadata": {},
   "outputs": [],
   "source": [
    "cases = cases.reset_index()\n",
    "deaths = deaths.reset_index()\n",
    "cases = cases.rename(columns = {\"index\" : \"County\",0:'Cases'})\n",
    "deaths = deaths.rename(columns = {\"index\" : \"County\",0:'Deaths'})"
   ]
  },
  {
   "cell_type": "code",
   "execution_count": 49,
   "metadata": {},
   "outputs": [],
   "source": [
    "covid = pd.merge(cases, deaths, on='County')\n",
    "covid = pd.merge(covid, pop, on='County')"
   ]
  },
  {
   "cell_type": "code",
   "execution_count": 50,
   "metadata": {},
   "outputs": [],
   "source": [
    "covid.drop([16,22], axis=0, inplace=True)"
   ]
  },
  {
   "cell_type": "code",
   "execution_count": 51,
   "metadata": {},
   "outputs": [
    {
     "data": {
      "text/html": [
       "<div>\n",
       "<style scoped>\n",
       "    .dataframe tbody tr th:only-of-type {\n",
       "        vertical-align: middle;\n",
       "    }\n",
       "\n",
       "    .dataframe tbody tr th {\n",
       "        vertical-align: top;\n",
       "    }\n",
       "\n",
       "    .dataframe thead th {\n",
       "        text-align: right;\n",
       "    }\n",
       "</style>\n",
       "<table border=\"1\" class=\"dataframe\">\n",
       "  <thead>\n",
       "    <tr style=\"text-align: right;\">\n",
       "      <th></th>\n",
       "      <th>County</th>\n",
       "      <th>Cases</th>\n",
       "      <th>Deaths</th>\n",
       "      <th>Population</th>\n",
       "    </tr>\n",
       "  </thead>\n",
       "  <tbody>\n",
       "    <tr>\n",
       "      <th>0</th>\n",
       "      <td>Allegany</td>\n",
       "      <td>21731</td>\n",
       "      <td>392</td>\n",
       "      <td>70416</td>\n",
       "    </tr>\n",
       "    <tr>\n",
       "      <th>1</th>\n",
       "      <td>Anne Arundel</td>\n",
       "      <td>119808</td>\n",
       "      <td>1277</td>\n",
       "      <td>579234</td>\n",
       "    </tr>\n",
       "    <tr>\n",
       "      <th>2</th>\n",
       "      <td>Baltimore</td>\n",
       "      <td>172399</td>\n",
       "      <td>2826</td>\n",
       "      <td>827370</td>\n",
       "    </tr>\n",
       "    <tr>\n",
       "      <th>3</th>\n",
       "      <td>Baltimore City</td>\n",
       "      <td>149524</td>\n",
       "      <td>1966</td>\n",
       "      <td>593490</td>\n",
       "    </tr>\n",
       "    <tr>\n",
       "      <th>4</th>\n",
       "      <td>Calvert</td>\n",
       "      <td>14785</td>\n",
       "      <td>173</td>\n",
       "      <td>92525</td>\n",
       "    </tr>\n",
       "    <tr>\n",
       "      <th>5</th>\n",
       "      <td>Caroline</td>\n",
       "      <td>7330</td>\n",
       "      <td>92</td>\n",
       "      <td>33406</td>\n",
       "    </tr>\n",
       "    <tr>\n",
       "      <th>6</th>\n",
       "      <td>Carroll</td>\n",
       "      <td>28133</td>\n",
       "      <td>475</td>\n",
       "      <td>168447</td>\n",
       "    </tr>\n",
       "    <tr>\n",
       "      <th>7</th>\n",
       "      <td>Cecil</td>\n",
       "      <td>20355</td>\n",
       "      <td>286</td>\n",
       "      <td>102855</td>\n",
       "    </tr>\n",
       "    <tr>\n",
       "      <th>8</th>\n",
       "      <td>Charles</td>\n",
       "      <td>38706</td>\n",
       "      <td>408</td>\n",
       "      <td>163257</td>\n",
       "    </tr>\n",
       "    <tr>\n",
       "      <th>9</th>\n",
       "      <td>Dorchester</td>\n",
       "      <td>9556</td>\n",
       "      <td>116</td>\n",
       "      <td>31929</td>\n",
       "    </tr>\n",
       "    <tr>\n",
       "      <th>10</th>\n",
       "      <td>Frederick</td>\n",
       "      <td>58504</td>\n",
       "      <td>620</td>\n",
       "      <td>259547</td>\n",
       "    </tr>\n",
       "    <tr>\n",
       "      <th>11</th>\n",
       "      <td>Garrett</td>\n",
       "      <td>7197</td>\n",
       "      <td>124</td>\n",
       "      <td>29014</td>\n",
       "    </tr>\n",
       "    <tr>\n",
       "      <th>12</th>\n",
       "      <td>Harford</td>\n",
       "      <td>50109</td>\n",
       "      <td>679</td>\n",
       "      <td>255441</td>\n",
       "    </tr>\n",
       "    <tr>\n",
       "      <th>13</th>\n",
       "      <td>Howard</td>\n",
       "      <td>64177</td>\n",
       "      <td>462</td>\n",
       "      <td>325690</td>\n",
       "    </tr>\n",
       "    <tr>\n",
       "      <th>14</th>\n",
       "      <td>Kent</td>\n",
       "      <td>3953</td>\n",
       "      <td>79</td>\n",
       "      <td>19422</td>\n",
       "    </tr>\n",
       "    <tr>\n",
       "      <th>15</th>\n",
       "      <td>Montgomery</td>\n",
       "      <td>245966</td>\n",
       "      <td>2375</td>\n",
       "      <td>1050688</td>\n",
       "    </tr>\n",
       "    <tr>\n",
       "      <th>17</th>\n",
       "      <td>Prince George's</td>\n",
       "      <td>229478</td>\n",
       "      <td>2386</td>\n",
       "      <td>909327</td>\n",
       "    </tr>\n",
       "    <tr>\n",
       "      <th>18</th>\n",
       "      <td>Queen Anne's</td>\n",
       "      <td>8845</td>\n",
       "      <td>131</td>\n",
       "      <td>50381</td>\n",
       "    </tr>\n",
       "    <tr>\n",
       "      <th>19</th>\n",
       "      <td>Somerset</td>\n",
       "      <td>6190</td>\n",
       "      <td>79</td>\n",
       "      <td>25616</td>\n",
       "    </tr>\n",
       "    <tr>\n",
       "      <th>20</th>\n",
       "      <td>St. Mary's</td>\n",
       "      <td>24582</td>\n",
       "      <td>251</td>\n",
       "      <td>113510</td>\n",
       "    </tr>\n",
       "    <tr>\n",
       "      <th>21</th>\n",
       "      <td>Talbot</td>\n",
       "      <td>7234</td>\n",
       "      <td>115</td>\n",
       "      <td>37181</td>\n",
       "    </tr>\n",
       "    <tr>\n",
       "      <th>23</th>\n",
       "      <td>Washington</td>\n",
       "      <td>40989</td>\n",
       "      <td>643</td>\n",
       "      <td>151049</td>\n",
       "    </tr>\n",
       "    <tr>\n",
       "      <th>24</th>\n",
       "      <td>Wicomico</td>\n",
       "      <td>24868</td>\n",
       "      <td>366</td>\n",
       "      <td>103609</td>\n",
       "    </tr>\n",
       "    <tr>\n",
       "      <th>25</th>\n",
       "      <td>Worcester</td>\n",
       "      <td>10878</td>\n",
       "      <td>188</td>\n",
       "      <td>52276</td>\n",
       "    </tr>\n",
       "  </tbody>\n",
       "</table>\n",
       "</div>"
      ],
      "text/plain": [
       "             County   Cases Deaths Population\n",
       "0          Allegany   21731    392      70416\n",
       "1      Anne Arundel  119808   1277     579234\n",
       "2         Baltimore  172399   2826     827370\n",
       "3    Baltimore City  149524   1966     593490\n",
       "4           Calvert   14785    173      92525\n",
       "5          Caroline    7330     92      33406\n",
       "6           Carroll   28133    475     168447\n",
       "7             Cecil   20355    286     102855\n",
       "8           Charles   38706    408     163257\n",
       "9        Dorchester    9556    116      31929\n",
       "10        Frederick   58504    620     259547\n",
       "11          Garrett    7197    124      29014\n",
       "12          Harford   50109    679     255441\n",
       "13           Howard   64177    462     325690\n",
       "14             Kent    3953     79      19422\n",
       "15       Montgomery  245966   2375    1050688\n",
       "17  Prince George's  229478   2386     909327\n",
       "18     Queen Anne's    8845    131      50381\n",
       "19         Somerset    6190     79      25616\n",
       "20       St. Mary's   24582    251     113510\n",
       "21           Talbot    7234    115      37181\n",
       "23       Washington   40989    643     151049\n",
       "24         Wicomico   24868    366     103609\n",
       "25        Worcester   10878    188      52276"
      ]
     },
     "execution_count": 51,
     "metadata": {},
     "output_type": "execute_result"
    }
   ],
   "source": [
    "covid"
   ]
  },
  {
   "cell_type": "code",
   "execution_count": 52,
   "metadata": {},
   "outputs": [],
   "source": [
    "race = pd.read_csv('race_demo.csv')"
   ]
  },
  {
   "cell_type": "code",
   "execution_count": 53,
   "metadata": {},
   "outputs": [],
   "source": [
    "race.columns.values[0] = 'drop'\n",
    "race = race.drop('drop', axis=1)"
   ]
  },
  {
   "cell_type": "code",
   "execution_count": 54,
   "metadata": {},
   "outputs": [],
   "source": [
    "race.County = race.County.str.replace('County','')"
   ]
  },
  {
   "cell_type": "code",
   "execution_count": 55,
   "metadata": {},
   "outputs": [],
   "source": [
    "pop1 = pop\n",
    "pop1.drop([1255,1261], axis=0, inplace=True)"
   ]
  },
  {
   "cell_type": "code",
   "execution_count": 56,
   "metadata": {},
   "outputs": [],
   "source": [
    "pop1 = pop1.loc[pop.index.repeat(6)].reset_index(drop=True)"
   ]
  },
  {
   "cell_type": "code",
   "execution_count": 57,
   "metadata": {},
   "outputs": [
    {
     "data": {
      "text/html": [
       "<div>\n",
       "<style scoped>\n",
       "    .dataframe tbody tr th:only-of-type {\n",
       "        vertical-align: middle;\n",
       "    }\n",
       "\n",
       "    .dataframe tbody tr th {\n",
       "        vertical-align: top;\n",
       "    }\n",
       "\n",
       "    .dataframe thead th {\n",
       "        text-align: right;\n",
       "    }\n",
       "</style>\n",
       "<table border=\"1\" class=\"dataframe\">\n",
       "  <thead>\n",
       "    <tr style=\"text-align: right;\">\n",
       "      <th></th>\n",
       "      <th>County</th>\n",
       "      <th>Population</th>\n",
       "    </tr>\n",
       "  </thead>\n",
       "  <tbody>\n",
       "    <tr>\n",
       "      <th>0</th>\n",
       "      <td>Allegany</td>\n",
       "      <td>70416</td>\n",
       "    </tr>\n",
       "    <tr>\n",
       "      <th>1</th>\n",
       "      <td>Allegany</td>\n",
       "      <td>70416</td>\n",
       "    </tr>\n",
       "    <tr>\n",
       "      <th>2</th>\n",
       "      <td>Allegany</td>\n",
       "      <td>70416</td>\n",
       "    </tr>\n",
       "    <tr>\n",
       "      <th>3</th>\n",
       "      <td>Allegany</td>\n",
       "      <td>70416</td>\n",
       "    </tr>\n",
       "    <tr>\n",
       "      <th>4</th>\n",
       "      <td>Allegany</td>\n",
       "      <td>70416</td>\n",
       "    </tr>\n",
       "    <tr>\n",
       "      <th>...</th>\n",
       "      <td>...</td>\n",
       "      <td>...</td>\n",
       "    </tr>\n",
       "    <tr>\n",
       "      <th>139</th>\n",
       "      <td>Worcester</td>\n",
       "      <td>52276</td>\n",
       "    </tr>\n",
       "    <tr>\n",
       "      <th>140</th>\n",
       "      <td>Worcester</td>\n",
       "      <td>52276</td>\n",
       "    </tr>\n",
       "    <tr>\n",
       "      <th>141</th>\n",
       "      <td>Worcester</td>\n",
       "      <td>52276</td>\n",
       "    </tr>\n",
       "    <tr>\n",
       "      <th>142</th>\n",
       "      <td>Worcester</td>\n",
       "      <td>52276</td>\n",
       "    </tr>\n",
       "    <tr>\n",
       "      <th>143</th>\n",
       "      <td>Worcester</td>\n",
       "      <td>52276</td>\n",
       "    </tr>\n",
       "  </tbody>\n",
       "</table>\n",
       "<p>144 rows × 2 columns</p>\n",
       "</div>"
      ],
      "text/plain": [
       "        County Population\n",
       "0     Allegany      70416\n",
       "1     Allegany      70416\n",
       "2     Allegany      70416\n",
       "3     Allegany      70416\n",
       "4     Allegany      70416\n",
       "..         ...        ...\n",
       "139  Worcester      52276\n",
       "140  Worcester      52276\n",
       "141  Worcester      52276\n",
       "142  Worcester      52276\n",
       "143  Worcester      52276\n",
       "\n",
       "[144 rows x 2 columns]"
      ]
     },
     "execution_count": 57,
     "metadata": {},
     "output_type": "execute_result"
    }
   ],
   "source": [
    "pop1"
   ]
  },
  {
   "cell_type": "code",
   "execution_count": 58,
   "metadata": {},
   "outputs": [],
   "source": [
    "race = race.sort_values('County')\n",
    "race = race.reset_index(drop=True)"
   ]
  },
  {
   "cell_type": "code",
   "execution_count": 59,
   "metadata": {},
   "outputs": [],
   "source": [
    "race['Total Pop'] = pop1.Population"
   ]
  },
  {
   "cell_type": "code",
   "execution_count": 63,
   "metadata": {},
   "outputs": [],
   "source": [
    "race['Percentage'] = race['Population Size'] / race['Total Pop'] * 100"
   ]
  },
  {
   "cell_type": "code",
   "execution_count": 61,
   "metadata": {},
   "outputs": [],
   "source": [
    "race = race.reset_index(drop=True)"
   ]
  },
  {
   "cell_type": "code",
   "execution_count": 64,
   "metadata": {},
   "outputs": [
    {
     "data": {
      "text/html": [
       "<div>\n",
       "<style scoped>\n",
       "    .dataframe tbody tr th:only-of-type {\n",
       "        vertical-align: middle;\n",
       "    }\n",
       "\n",
       "    .dataframe tbody tr th {\n",
       "        vertical-align: top;\n",
       "    }\n",
       "\n",
       "    .dataframe thead th {\n",
       "        text-align: right;\n",
       "    }\n",
       "</style>\n",
       "<table border=\"1\" class=\"dataframe\">\n",
       "  <thead>\n",
       "    <tr style=\"text-align: right;\">\n",
       "      <th></th>\n",
       "      <th>County</th>\n",
       "      <th>State</th>\n",
       "      <th>Race</th>\n",
       "      <th>Population Size</th>\n",
       "      <th>Total Pop</th>\n",
       "      <th>Percentage</th>\n",
       "    </tr>\n",
       "  </thead>\n",
       "  <tbody>\n",
       "    <tr>\n",
       "      <th>0</th>\n",
       "      <td>Allegany</td>\n",
       "      <td>MD</td>\n",
       "      <td>Two or more Races</td>\n",
       "      <td>1457</td>\n",
       "      <td>70416</td>\n",
       "      <td>2.069132</td>\n",
       "    </tr>\n",
       "    <tr>\n",
       "      <th>1</th>\n",
       "      <td>Allegany</td>\n",
       "      <td>MD</td>\n",
       "      <td>Native Hawaiian or Pacific Islander</td>\n",
       "      <td>49</td>\n",
       "      <td>70416</td>\n",
       "      <td>0.069586</td>\n",
       "    </tr>\n",
       "    <tr>\n",
       "      <th>2</th>\n",
       "      <td>Allegany</td>\n",
       "      <td>MD</td>\n",
       "      <td>Black</td>\n",
       "      <td>5818</td>\n",
       "      <td>70416</td>\n",
       "      <td>8.262327</td>\n",
       "    </tr>\n",
       "    <tr>\n",
       "      <th>3</th>\n",
       "      <td>Allegany</td>\n",
       "      <td>MD</td>\n",
       "      <td>White</td>\n",
       "      <td>62142</td>\n",
       "      <td>70416</td>\n",
       "      <td>88.24983</td>\n",
       "    </tr>\n",
       "    <tr>\n",
       "      <th>4</th>\n",
       "      <td>Allegany</td>\n",
       "      <td>MD</td>\n",
       "      <td>Native American or Alaskan</td>\n",
       "      <td>153</td>\n",
       "      <td>70416</td>\n",
       "      <td>0.21728</td>\n",
       "    </tr>\n",
       "    <tr>\n",
       "      <th>...</th>\n",
       "      <td>...</td>\n",
       "      <td>...</td>\n",
       "      <td>...</td>\n",
       "      <td>...</td>\n",
       "      <td>...</td>\n",
       "      <td>...</td>\n",
       "    </tr>\n",
       "    <tr>\n",
       "      <th>139</th>\n",
       "      <td>Worcester</td>\n",
       "      <td>MD</td>\n",
       "      <td>Black</td>\n",
       "      <td>6813</td>\n",
       "      <td>52276</td>\n",
       "      <td>13.032749</td>\n",
       "    </tr>\n",
       "    <tr>\n",
       "      <th>140</th>\n",
       "      <td>Worcester</td>\n",
       "      <td>MD</td>\n",
       "      <td>Asian</td>\n",
       "      <td>801</td>\n",
       "      <td>52276</td>\n",
       "      <td>1.532252</td>\n",
       "    </tr>\n",
       "    <tr>\n",
       "      <th>141</th>\n",
       "      <td>Worcester</td>\n",
       "      <td>MD</td>\n",
       "      <td>Native Hawaiian or Pacific Islander</td>\n",
       "      <td>23</td>\n",
       "      <td>52276</td>\n",
       "      <td>0.043997</td>\n",
       "    </tr>\n",
       "    <tr>\n",
       "      <th>142</th>\n",
       "      <td>Worcester</td>\n",
       "      <td>MD</td>\n",
       "      <td>Two or more Races</td>\n",
       "      <td>1013</td>\n",
       "      <td>52276</td>\n",
       "      <td>1.937792</td>\n",
       "    </tr>\n",
       "    <tr>\n",
       "      <th>143</th>\n",
       "      <td>Worcester</td>\n",
       "      <td>MD</td>\n",
       "      <td>Native American or Alaskan</td>\n",
       "      <td>215</td>\n",
       "      <td>52276</td>\n",
       "      <td>0.411279</td>\n",
       "    </tr>\n",
       "  </tbody>\n",
       "</table>\n",
       "<p>144 rows × 6 columns</p>\n",
       "</div>"
      ],
      "text/plain": [
       "         County State                                 Race  Population Size  \\\n",
       "0     Allegany     MD                    Two or more Races             1457   \n",
       "1     Allegany     MD  Native Hawaiian or Pacific Islander               49   \n",
       "2     Allegany     MD                                Black             5818   \n",
       "3     Allegany     MD                                White            62142   \n",
       "4     Allegany     MD           Native American or Alaskan              153   \n",
       "..          ...   ...                                  ...              ...   \n",
       "139  Worcester     MD                                Black             6813   \n",
       "140  Worcester     MD                                Asian              801   \n",
       "141  Worcester     MD  Native Hawaiian or Pacific Islander               23   \n",
       "142  Worcester     MD                    Two or more Races             1013   \n",
       "143  Worcester     MD           Native American or Alaskan              215   \n",
       "\n",
       "    Total Pop Percentage  \n",
       "0       70416   2.069132  \n",
       "1       70416   0.069586  \n",
       "2       70416   8.262327  \n",
       "3       70416   88.24983  \n",
       "4       70416    0.21728  \n",
       "..        ...        ...  \n",
       "139     52276  13.032749  \n",
       "140     52276   1.532252  \n",
       "141     52276   0.043997  \n",
       "142     52276   1.937792  \n",
       "143     52276   0.411279  \n",
       "\n",
       "[144 rows x 6 columns]"
      ]
     },
     "execution_count": 64,
     "metadata": {},
     "output_type": "execute_result"
    }
   ],
   "source": [
    "race"
   ]
  },
  {
   "cell_type": "code",
   "execution_count": 65,
   "metadata": {},
   "outputs": [],
   "source": [
    "low = race[race['Race']== 'White']"
   ]
  },
  {
   "cell_type": "code",
   "execution_count": 67,
   "metadata": {},
   "outputs": [],
   "source": [
    "low = low.sort_values('Percentage')"
   ]
  },
  {
   "cell_type": "code",
   "execution_count": 68,
   "metadata": {},
   "outputs": [
    {
     "data": {
      "text/html": [
       "<div>\n",
       "<style scoped>\n",
       "    .dataframe tbody tr th:only-of-type {\n",
       "        vertical-align: middle;\n",
       "    }\n",
       "\n",
       "    .dataframe tbody tr th {\n",
       "        vertical-align: top;\n",
       "    }\n",
       "\n",
       "    .dataframe thead th {\n",
       "        text-align: right;\n",
       "    }\n",
       "</style>\n",
       "<table border=\"1\" class=\"dataframe\">\n",
       "  <thead>\n",
       "    <tr style=\"text-align: right;\">\n",
       "      <th></th>\n",
       "      <th>County</th>\n",
       "      <th>State</th>\n",
       "      <th>Race</th>\n",
       "      <th>Population Size</th>\n",
       "      <th>Total Pop</th>\n",
       "      <th>Percentage</th>\n",
       "    </tr>\n",
       "  </thead>\n",
       "  <tbody>\n",
       "    <tr>\n",
       "      <th>100</th>\n",
       "      <td>Prince George's</td>\n",
       "      <td>MD</td>\n",
       "      <td>White</td>\n",
       "      <td>246145</td>\n",
       "      <td>909327</td>\n",
       "      <td>27.06892</td>\n",
       "    </tr>\n",
       "    <tr>\n",
       "      <th>23</th>\n",
       "      <td>Baltimore City</td>\n",
       "      <td>MD</td>\n",
       "      <td>White</td>\n",
       "      <td>188646</td>\n",
       "      <td>593490</td>\n",
       "      <td>31.785877</td>\n",
       "    </tr>\n",
       "    <tr>\n",
       "      <th>53</th>\n",
       "      <td>Charles</td>\n",
       "      <td>MD</td>\n",
       "      <td>White</td>\n",
       "      <td>67932</td>\n",
       "      <td>163257</td>\n",
       "      <td>41.610467</td>\n",
       "    </tr>\n",
       "    <tr>\n",
       "      <th>112</th>\n",
       "      <td>Somerset</td>\n",
       "      <td>MD</td>\n",
       "      <td>White</td>\n",
       "      <td>13896</td>\n",
       "      <td>25616</td>\n",
       "      <td>54.247345</td>\n",
       "    </tr>\n",
       "    <tr>\n",
       "      <th>82</th>\n",
       "      <td>Howard</td>\n",
       "      <td>MD</td>\n",
       "      <td>White</td>\n",
       "      <td>182223</td>\n",
       "      <td>325690</td>\n",
       "      <td>55.94983</td>\n",
       "    </tr>\n",
       "    <tr>\n",
       "      <th>91</th>\n",
       "      <td>Montgomery</td>\n",
       "      <td>MD</td>\n",
       "      <td>White</td>\n",
       "      <td>630063</td>\n",
       "      <td>1050688</td>\n",
       "      <td>59.966708</td>\n",
       "    </tr>\n",
       "    <tr>\n",
       "      <th>13</th>\n",
       "      <td>Baltimore</td>\n",
       "      <td>MD</td>\n",
       "      <td>White</td>\n",
       "      <td>497980</td>\n",
       "      <td>827370</td>\n",
       "      <td>60.188308</td>\n",
       "    </tr>\n",
       "    <tr>\n",
       "      <th>137</th>\n",
       "      <td>Wicomico</td>\n",
       "      <td>MD</td>\n",
       "      <td>White</td>\n",
       "      <td>68639</td>\n",
       "      <td>103609</td>\n",
       "      <td>66.248106</td>\n",
       "    </tr>\n",
       "    <tr>\n",
       "      <th>59</th>\n",
       "      <td>Dorchester</td>\n",
       "      <td>MD</td>\n",
       "      <td>White</td>\n",
       "      <td>21303</td>\n",
       "      <td>31929</td>\n",
       "      <td>66.71991</td>\n",
       "    </tr>\n",
       "    <tr>\n",
       "      <th>7</th>\n",
       "      <td>Anne Arundel</td>\n",
       "      <td>MD</td>\n",
       "      <td>White</td>\n",
       "      <td>426312</td>\n",
       "      <td>579234</td>\n",
       "      <td>73.599271</td>\n",
       "    </tr>\n",
       "    <tr>\n",
       "      <th>118</th>\n",
       "      <td>St. Mary's</td>\n",
       "      <td>MD</td>\n",
       "      <td>White</td>\n",
       "      <td>88595</td>\n",
       "      <td>113510</td>\n",
       "      <td>78.050392</td>\n",
       "    </tr>\n",
       "    <tr>\n",
       "      <th>77</th>\n",
       "      <td>Harford</td>\n",
       "      <td>MD</td>\n",
       "      <td>White</td>\n",
       "      <td>201330</td>\n",
       "      <td>255441</td>\n",
       "      <td>78.816635</td>\n",
       "    </tr>\n",
       "    <tr>\n",
       "      <th>63</th>\n",
       "      <td>Frederick</td>\n",
       "      <td>MD</td>\n",
       "      <td>White</td>\n",
       "      <td>209391</td>\n",
       "      <td>259547</td>\n",
       "      <td>80.675562</td>\n",
       "    </tr>\n",
       "    <tr>\n",
       "      <th>31</th>\n",
       "      <td>Caroline</td>\n",
       "      <td>MD</td>\n",
       "      <td>White</td>\n",
       "      <td>27058</td>\n",
       "      <td>33406</td>\n",
       "      <td>80.997426</td>\n",
       "    </tr>\n",
       "    <tr>\n",
       "      <th>28</th>\n",
       "      <td>Calvert</td>\n",
       "      <td>MD</td>\n",
       "      <td>White</td>\n",
       "      <td>74964</td>\n",
       "      <td>92525</td>\n",
       "      <td>81.020265</td>\n",
       "    </tr>\n",
       "    <tr>\n",
       "      <th>89</th>\n",
       "      <td>Kent</td>\n",
       "      <td>MD</td>\n",
       "      <td>White</td>\n",
       "      <td>15790</td>\n",
       "      <td>19422</td>\n",
       "      <td>81.299557</td>\n",
       "    </tr>\n",
       "    <tr>\n",
       "      <th>128</th>\n",
       "      <td>Washington</td>\n",
       "      <td>MD</td>\n",
       "      <td>White</td>\n",
       "      <td>123930</td>\n",
       "      <td>151049</td>\n",
       "      <td>82.046223</td>\n",
       "    </tr>\n",
       "    <tr>\n",
       "      <th>138</th>\n",
       "      <td>Worcester</td>\n",
       "      <td>MD</td>\n",
       "      <td>White</td>\n",
       "      <td>43411</td>\n",
       "      <td>52276</td>\n",
       "      <td>83.041931</td>\n",
       "    </tr>\n",
       "    <tr>\n",
       "      <th>122</th>\n",
       "      <td>Talbot</td>\n",
       "      <td>MD</td>\n",
       "      <td>White</td>\n",
       "      <td>30973</td>\n",
       "      <td>37181</td>\n",
       "      <td>83.3033</td>\n",
       "    </tr>\n",
       "    <tr>\n",
       "      <th>3</th>\n",
       "      <td>Allegany</td>\n",
       "      <td>MD</td>\n",
       "      <td>White</td>\n",
       "      <td>62142</td>\n",
       "      <td>70416</td>\n",
       "      <td>88.24983</td>\n",
       "    </tr>\n",
       "    <tr>\n",
       "      <th>44</th>\n",
       "      <td>Cecil</td>\n",
       "      <td>MD</td>\n",
       "      <td>White</td>\n",
       "      <td>90827</td>\n",
       "      <td>102855</td>\n",
       "      <td>88.305867</td>\n",
       "    </tr>\n",
       "    <tr>\n",
       "      <th>102</th>\n",
       "      <td>Queen Anne's</td>\n",
       "      <td>MD</td>\n",
       "      <td>White</td>\n",
       "      <td>45252</td>\n",
       "      <td>50381</td>\n",
       "      <td>89.819575</td>\n",
       "    </tr>\n",
       "    <tr>\n",
       "      <th>41</th>\n",
       "      <td>Carroll</td>\n",
       "      <td>MD</td>\n",
       "      <td>White</td>\n",
       "      <td>154410</td>\n",
       "      <td>168447</td>\n",
       "      <td>91.666815</td>\n",
       "    </tr>\n",
       "    <tr>\n",
       "      <th>68</th>\n",
       "      <td>Garrett</td>\n",
       "      <td>MD</td>\n",
       "      <td>White</td>\n",
       "      <td>28232</td>\n",
       "      <td>29014</td>\n",
       "      <td>97.304749</td>\n",
       "    </tr>\n",
       "  </tbody>\n",
       "</table>\n",
       "</div>"
      ],
      "text/plain": [
       "               County State   Race  Population Size Total Pop Percentage\n",
       "100  Prince George's     MD  White           246145    909327   27.06892\n",
       "23     Baltimore City    MD  White           188646    593490  31.785877\n",
       "53           Charles     MD  White            67932    163257  41.610467\n",
       "112         Somerset     MD  White            13896     25616  54.247345\n",
       "82            Howard     MD  White           182223    325690   55.94983\n",
       "91        Montgomery     MD  White           630063   1050688  59.966708\n",
       "13         Baltimore     MD  White           497980    827370  60.188308\n",
       "137         Wicomico     MD  White            68639    103609  66.248106\n",
       "59        Dorchester     MD  White            21303     31929   66.71991\n",
       "7       Anne Arundel     MD  White           426312    579234  73.599271\n",
       "118       St. Mary's     MD  White            88595    113510  78.050392\n",
       "77           Harford     MD  White           201330    255441  78.816635\n",
       "63         Frederick     MD  White           209391    259547  80.675562\n",
       "31          Caroline     MD  White            27058     33406  80.997426\n",
       "28           Calvert     MD  White            74964     92525  81.020265\n",
       "89              Kent     MD  White            15790     19422  81.299557\n",
       "128       Washington     MD  White           123930    151049  82.046223\n",
       "138        Worcester     MD  White            43411     52276  83.041931\n",
       "122           Talbot     MD  White            30973     37181    83.3033\n",
       "3           Allegany     MD  White            62142     70416   88.24983\n",
       "44             Cecil     MD  White            90827    102855  88.305867\n",
       "102     Queen Anne's     MD  White            45252     50381  89.819575\n",
       "41           Carroll     MD  White           154410    168447  91.666815\n",
       "68           Garrett     MD  White            28232     29014  97.304749"
      ]
     },
     "execution_count": 68,
     "metadata": {},
     "output_type": "execute_result"
    }
   ],
   "source": [
    "low"
   ]
  },
  {
   "cell_type": "code",
   "execution_count": null,
   "metadata": {},
   "outputs": [],
   "source": []
  },
  {
   "cell_type": "code",
   "execution_count": 69,
   "metadata": {},
   "outputs": [
    {
     "data": {
      "application/vnd.plotly.v1+json": {
       "config": {
        "plotlyServerURL": "https://plot.ly"
       },
       "data": [
        {
         "alignmentgroup": "True",
         "bingroup": "x",
         "histfunc": "sum",
         "hovertemplate": "Race=Two or more Races<br>County=%{x}<br>sum of Percentage=%{y}<extra></extra>",
         "legendgroup": "Two or more Races",
         "marker": {
          "color": "#636efa",
          "pattern": {
           "shape": ""
          }
         },
         "name": "Two or more Races",
         "offsetgroup": "Two or more Races",
         "orientation": "v",
         "showlegend": true,
         "type": "histogram",
         "x": [
          "Allegany ",
          "Anne Arundel ",
          "Baltimore ",
          "Baltimore City",
          "Calvert ",
          "Caroline ",
          "Carroll ",
          "Cecil ",
          "Charles ",
          "Dorchester ",
          "Frederick ",
          "Garrett ",
          "Harford ",
          "Howard ",
          "Kent ",
          "Montgomery ",
          "Prince George's ",
          "Queen Anne's ",
          "Somerset ",
          "St. Mary's ",
          "Talbot ",
          "Washington ",
          "Wicomico ",
          "Worcester "
         ],
         "xaxis": "x",
         "y": [
          2.069132015451034,
          3.3269801151175518,
          2.6424695118266315,
          2.198857605014406,
          3.238043771953526,
          2.496557504639885,
          2.0059722049071813,
          2.4967186816392006,
          4.006566334062246,
          2.446052178270538,
          3.1111898808308323,
          0.9512649065968153,
          2.848015784466863,
          3.859805336362799,
          2.0080321285140563,
          3.4631593774745695,
          2.749835867625178,
          2.038466882356444,
          2.6819175515302938,
          3.5688485595982735,
          1.8262015545574353,
          3.0692027090546774,
          2.8289048248704263,
          1.9377917208661717
         ],
         "yaxis": "y"
        },
        {
         "alignmentgroup": "True",
         "bingroup": "x",
         "histfunc": "sum",
         "hovertemplate": "Race=Native Hawaiian or Pacific Islander<br>County=%{x}<br>sum of Percentage=%{y}<extra></extra>",
         "legendgroup": "Native Hawaiian or Pacific Islander",
         "marker": {
          "color": "#EF553B",
          "pattern": {
           "shape": ""
          }
         },
         "name": "Native Hawaiian or Pacific Islander",
         "offsetgroup": "Native Hawaiian or Pacific Islander",
         "orientation": "v",
         "showlegend": true,
         "type": "histogram",
         "x": [
          "Allegany ",
          "Anne Arundel ",
          "Baltimore ",
          "Baltimore City",
          "Calvert ",
          "Caroline ",
          "Carroll ",
          "Cecil ",
          "Charles ",
          "Dorchester ",
          "Frederick ",
          "Garrett ",
          "Harford ",
          "Howard ",
          "Kent ",
          "Montgomery ",
          "Prince George's ",
          "Queen Anne's ",
          "Somerset ",
          "St. Mary's ",
          "Talbot ",
          "Washington ",
          "Wicomico ",
          "Worcester "
         ],
         "xaxis": "x",
         "y": [
          0.06958645762326743,
          0.11843227434853616,
          0.07662835249042146,
          0.09300914926957489,
          0.1124020534990543,
          0.32030174220199964,
          0.0581785368691636,
          0.06514024597734674,
          0.13353179342999075,
          0.06577092924927182,
          0.08861593468620327,
          0.003446611980423244,
          0.0963040388974362,
          0.08535724154871197,
          0.05148800329523221,
          0.1010766278857282,
          0.19223007784878268,
          0.12306226553661104,
          0.07417239225484072,
          0.12774204915866444,
          0.193647292972217,
          0.08407867645598449,
          0.14091439932824368,
          0.04399724538985385
         ],
         "yaxis": "y"
        },
        {
         "alignmentgroup": "True",
         "bingroup": "x",
         "histfunc": "sum",
         "hovertemplate": "Race=Black<br>County=%{x}<br>sum of Percentage=%{y}<extra></extra>",
         "legendgroup": "Black",
         "marker": {
          "color": "#00cc96",
          "pattern": {
           "shape": ""
          }
         },
         "name": "Black",
         "offsetgroup": "Black",
         "orientation": "v",
         "showlegend": true,
         "type": "histogram",
         "x": [
          "Allegany ",
          "Anne Arundel ",
          "Baltimore ",
          "Baltimore City",
          "Calvert ",
          "Caroline ",
          "Carroll ",
          "Cecil ",
          "Charles ",
          "Dorchester ",
          "Frederick ",
          "Garrett ",
          "Harford ",
          "Howard ",
          "Kent ",
          "Montgomery ",
          "Prince George's ",
          "Queen Anne's ",
          "Somerset ",
          "St. Mary's ",
          "Talbot ",
          "Washington ",
          "Wicomico ",
          "Worcester "
         ],
         "xaxis": "x",
         "y": [
          8.262326743921836,
          18.286909953490298,
          30.326093525266813,
          62.72675192505349,
          13.278573358551743,
          14.120217924923667,
          3.9163653849578797,
          7.292790822031014,
          50.082997972521845,
          29.020639543988224,
          10.662808662785546,
          1.1098090576962845,
          14.836302707866004,
          20.391476557462617,
          14.895479353310678,
          20.134140677346654,
          64.36771370475087,
          6.339691550386058,
          41.51311680199875,
          14.86124570522421,
          12.796858610580673,
          12.526398718296711,
          27.348975475103515,
          13.032749253959752
         ],
         "yaxis": "y"
        },
        {
         "alignmentgroup": "True",
         "bingroup": "x",
         "histfunc": "sum",
         "hovertemplate": "Race=White<br>County=%{x}<br>sum of Percentage=%{y}<extra></extra>",
         "legendgroup": "White",
         "marker": {
          "color": "#ab63fa",
          "pattern": {
           "shape": ""
          }
         },
         "name": "White",
         "offsetgroup": "White",
         "orientation": "v",
         "showlegend": true,
         "type": "histogram",
         "x": [
          "Allegany ",
          "Anne Arundel ",
          "Baltimore ",
          "Baltimore City",
          "Calvert ",
          "Caroline ",
          "Carroll ",
          "Cecil ",
          "Charles ",
          "Dorchester ",
          "Frederick ",
          "Garrett ",
          "Harford ",
          "Howard ",
          "Kent ",
          "Montgomery ",
          "Prince George's ",
          "Queen Anne's ",
          "Somerset ",
          "St. Mary's ",
          "Talbot ",
          "Washington ",
          "Wicomico ",
          "Worcester "
         ],
         "xaxis": "x",
         "y": [
          88.24982958418542,
          73.59927076103958,
          60.1883075286752,
          31.78587676287722,
          81.0202647932991,
          80.99742561216547,
          91.66681508130154,
          88.30586748335034,
          41.61046693250519,
          66.71990979986846,
          80.67556165164692,
          97.30474943130902,
          78.81663476106029,
          55.94982959255734,
          81.29955720317166,
          59.966707528781136,
          27.06892020142369,
          89.81957483972133,
          54.2473454091193,
          78.05039203594397,
          83.30330007261773,
          82.04622341094611,
          66.24810585952959,
          83.04193128778024
         ],
         "yaxis": "y"
        },
        {
         "alignmentgroup": "True",
         "bingroup": "x",
         "histfunc": "sum",
         "hovertemplate": "Race=Native American or Alaskan<br>County=%{x}<br>sum of Percentage=%{y}<extra></extra>",
         "legendgroup": "Native American or Alaskan",
         "marker": {
          "color": "#FFA15A",
          "pattern": {
           "shape": ""
          }
         },
         "name": "Native American or Alaskan",
         "offsetgroup": "Native American or Alaskan",
         "orientation": "v",
         "showlegend": true,
         "type": "histogram",
         "x": [
          "Allegany ",
          "Anne Arundel ",
          "Baltimore ",
          "Baltimore City",
          "Calvert ",
          "Caroline ",
          "Carroll ",
          "Cecil ",
          "Charles ",
          "Dorchester ",
          "Frederick ",
          "Garrett ",
          "Harford ",
          "Howard ",
          "Kent ",
          "Montgomery ",
          "Prince George's ",
          "Queen Anne's ",
          "Somerset ",
          "St. Mary's ",
          "Talbot ",
          "Washington ",
          "Wicomico ",
          "Worcester "
         ],
         "xaxis": "x",
         "y": [
          0.217280163599182,
          0.4495592454862802,
          0.4493757327435126,
          0.46032789095014237,
          0.4593353147797892,
          0.8681075255942047,
          0.26892731838501127,
          0.4102863254095572,
          0.769951671291277,
          0.5167715869585643,
          0.5054961143839074,
          0.21713655476666435,
          0.3225793823231196,
          0.4252510055574319,
          0.35011842240757907,
          0.7408479015654504,
          1.2047371297673994,
          0.4823246858934916,
          0.47626483447845097,
          0.48806272575103515,
          0.433016863451763,
          0.34028692675886635,
          0.4063353569670588,
          0.41127859820950335
         ],
         "yaxis": "y"
        },
        {
         "alignmentgroup": "True",
         "bingroup": "x",
         "histfunc": "sum",
         "hovertemplate": "Race=Asian<br>County=%{x}<br>sum of Percentage=%{y}<extra></extra>",
         "legendgroup": "Asian",
         "marker": {
          "color": "#19d3f3",
          "pattern": {
           "shape": ""
          }
         },
         "name": "Asian",
         "offsetgroup": "Asian",
         "orientation": "v",
         "showlegend": true,
         "type": "histogram",
         "x": [
          "Allegany ",
          "Anne Arundel ",
          "Baltimore ",
          "Baltimore City",
          "Calvert ",
          "Caroline ",
          "Carroll ",
          "Cecil ",
          "Charles ",
          "Dorchester ",
          "Frederick ",
          "Garrett ",
          "Harford ",
          "Howard ",
          "Kent ",
          "Montgomery ",
          "Prince George's ",
          "Queen Anne's ",
          "Somerset ",
          "St. Mary's ",
          "Talbot ",
          "Washington ",
          "Wicomico ",
          "Worcester "
         ],
         "xaxis": "x",
         "y": [
          1.1318450352192684,
          4.218847650517753,
          6.3171253489974255,
          2.735176666835162,
          1.8913807079167793,
          1.197389690474765,
          2.083741473579227,
          1.4291964415925331,
          3.3964852961894434,
          1.2308559616649442,
          4.956327755666604,
          0.41359343765078926,
          3.080163325386293,
          19.288280266511098,
          1.395324889300793,
          15.594067886946458,
          4.416563018584074,
          1.1968797761060719,
          1.0071830106183635,
          2.903708924323848,
          1.446975605820177,
          1.9338095584876431,
          3.0267640842011794,
          1.5322518937944756
         ],
         "yaxis": "y"
        }
       ],
       "layout": {
        "barmode": "group",
        "height": 1000,
        "legend": {
         "title": {
          "text": "Race"
         },
         "tracegroupgap": 0
        },
        "template": {
         "data": {
          "bar": [
           {
            "error_x": {
             "color": "#2a3f5f"
            },
            "error_y": {
             "color": "#2a3f5f"
            },
            "marker": {
             "line": {
              "color": "#E5ECF6",
              "width": 0.5
             },
             "pattern": {
              "fillmode": "overlay",
              "size": 10,
              "solidity": 0.2
             }
            },
            "type": "bar"
           }
          ],
          "barpolar": [
           {
            "marker": {
             "line": {
              "color": "#E5ECF6",
              "width": 0.5
             },
             "pattern": {
              "fillmode": "overlay",
              "size": 10,
              "solidity": 0.2
             }
            },
            "type": "barpolar"
           }
          ],
          "carpet": [
           {
            "aaxis": {
             "endlinecolor": "#2a3f5f",
             "gridcolor": "white",
             "linecolor": "white",
             "minorgridcolor": "white",
             "startlinecolor": "#2a3f5f"
            },
            "baxis": {
             "endlinecolor": "#2a3f5f",
             "gridcolor": "white",
             "linecolor": "white",
             "minorgridcolor": "white",
             "startlinecolor": "#2a3f5f"
            },
            "type": "carpet"
           }
          ],
          "choropleth": [
           {
            "colorbar": {
             "outlinewidth": 0,
             "ticks": ""
            },
            "type": "choropleth"
           }
          ],
          "contour": [
           {
            "colorbar": {
             "outlinewidth": 0,
             "ticks": ""
            },
            "colorscale": [
             [
              0,
              "#0d0887"
             ],
             [
              0.1111111111111111,
              "#46039f"
             ],
             [
              0.2222222222222222,
              "#7201a8"
             ],
             [
              0.3333333333333333,
              "#9c179e"
             ],
             [
              0.4444444444444444,
              "#bd3786"
             ],
             [
              0.5555555555555556,
              "#d8576b"
             ],
             [
              0.6666666666666666,
              "#ed7953"
             ],
             [
              0.7777777777777778,
              "#fb9f3a"
             ],
             [
              0.8888888888888888,
              "#fdca26"
             ],
             [
              1,
              "#f0f921"
             ]
            ],
            "type": "contour"
           }
          ],
          "contourcarpet": [
           {
            "colorbar": {
             "outlinewidth": 0,
             "ticks": ""
            },
            "type": "contourcarpet"
           }
          ],
          "heatmap": [
           {
            "colorbar": {
             "outlinewidth": 0,
             "ticks": ""
            },
            "colorscale": [
             [
              0,
              "#0d0887"
             ],
             [
              0.1111111111111111,
              "#46039f"
             ],
             [
              0.2222222222222222,
              "#7201a8"
             ],
             [
              0.3333333333333333,
              "#9c179e"
             ],
             [
              0.4444444444444444,
              "#bd3786"
             ],
             [
              0.5555555555555556,
              "#d8576b"
             ],
             [
              0.6666666666666666,
              "#ed7953"
             ],
             [
              0.7777777777777778,
              "#fb9f3a"
             ],
             [
              0.8888888888888888,
              "#fdca26"
             ],
             [
              1,
              "#f0f921"
             ]
            ],
            "type": "heatmap"
           }
          ],
          "heatmapgl": [
           {
            "colorbar": {
             "outlinewidth": 0,
             "ticks": ""
            },
            "colorscale": [
             [
              0,
              "#0d0887"
             ],
             [
              0.1111111111111111,
              "#46039f"
             ],
             [
              0.2222222222222222,
              "#7201a8"
             ],
             [
              0.3333333333333333,
              "#9c179e"
             ],
             [
              0.4444444444444444,
              "#bd3786"
             ],
             [
              0.5555555555555556,
              "#d8576b"
             ],
             [
              0.6666666666666666,
              "#ed7953"
             ],
             [
              0.7777777777777778,
              "#fb9f3a"
             ],
             [
              0.8888888888888888,
              "#fdca26"
             ],
             [
              1,
              "#f0f921"
             ]
            ],
            "type": "heatmapgl"
           }
          ],
          "histogram": [
           {
            "marker": {
             "pattern": {
              "fillmode": "overlay",
              "size": 10,
              "solidity": 0.2
             }
            },
            "type": "histogram"
           }
          ],
          "histogram2d": [
           {
            "colorbar": {
             "outlinewidth": 0,
             "ticks": ""
            },
            "colorscale": [
             [
              0,
              "#0d0887"
             ],
             [
              0.1111111111111111,
              "#46039f"
             ],
             [
              0.2222222222222222,
              "#7201a8"
             ],
             [
              0.3333333333333333,
              "#9c179e"
             ],
             [
              0.4444444444444444,
              "#bd3786"
             ],
             [
              0.5555555555555556,
              "#d8576b"
             ],
             [
              0.6666666666666666,
              "#ed7953"
             ],
             [
              0.7777777777777778,
              "#fb9f3a"
             ],
             [
              0.8888888888888888,
              "#fdca26"
             ],
             [
              1,
              "#f0f921"
             ]
            ],
            "type": "histogram2d"
           }
          ],
          "histogram2dcontour": [
           {
            "colorbar": {
             "outlinewidth": 0,
             "ticks": ""
            },
            "colorscale": [
             [
              0,
              "#0d0887"
             ],
             [
              0.1111111111111111,
              "#46039f"
             ],
             [
              0.2222222222222222,
              "#7201a8"
             ],
             [
              0.3333333333333333,
              "#9c179e"
             ],
             [
              0.4444444444444444,
              "#bd3786"
             ],
             [
              0.5555555555555556,
              "#d8576b"
             ],
             [
              0.6666666666666666,
              "#ed7953"
             ],
             [
              0.7777777777777778,
              "#fb9f3a"
             ],
             [
              0.8888888888888888,
              "#fdca26"
             ],
             [
              1,
              "#f0f921"
             ]
            ],
            "type": "histogram2dcontour"
           }
          ],
          "mesh3d": [
           {
            "colorbar": {
             "outlinewidth": 0,
             "ticks": ""
            },
            "type": "mesh3d"
           }
          ],
          "parcoords": [
           {
            "line": {
             "colorbar": {
              "outlinewidth": 0,
              "ticks": ""
             }
            },
            "type": "parcoords"
           }
          ],
          "pie": [
           {
            "automargin": true,
            "type": "pie"
           }
          ],
          "scatter": [
           {
            "marker": {
             "colorbar": {
              "outlinewidth": 0,
              "ticks": ""
             }
            },
            "type": "scatter"
           }
          ],
          "scatter3d": [
           {
            "line": {
             "colorbar": {
              "outlinewidth": 0,
              "ticks": ""
             }
            },
            "marker": {
             "colorbar": {
              "outlinewidth": 0,
              "ticks": ""
             }
            },
            "type": "scatter3d"
           }
          ],
          "scattercarpet": [
           {
            "marker": {
             "colorbar": {
              "outlinewidth": 0,
              "ticks": ""
             }
            },
            "type": "scattercarpet"
           }
          ],
          "scattergeo": [
           {
            "marker": {
             "colorbar": {
              "outlinewidth": 0,
              "ticks": ""
             }
            },
            "type": "scattergeo"
           }
          ],
          "scattergl": [
           {
            "marker": {
             "colorbar": {
              "outlinewidth": 0,
              "ticks": ""
             }
            },
            "type": "scattergl"
           }
          ],
          "scattermapbox": [
           {
            "marker": {
             "colorbar": {
              "outlinewidth": 0,
              "ticks": ""
             }
            },
            "type": "scattermapbox"
           }
          ],
          "scatterpolar": [
           {
            "marker": {
             "colorbar": {
              "outlinewidth": 0,
              "ticks": ""
             }
            },
            "type": "scatterpolar"
           }
          ],
          "scatterpolargl": [
           {
            "marker": {
             "colorbar": {
              "outlinewidth": 0,
              "ticks": ""
             }
            },
            "type": "scatterpolargl"
           }
          ],
          "scatterternary": [
           {
            "marker": {
             "colorbar": {
              "outlinewidth": 0,
              "ticks": ""
             }
            },
            "type": "scatterternary"
           }
          ],
          "surface": [
           {
            "colorbar": {
             "outlinewidth": 0,
             "ticks": ""
            },
            "colorscale": [
             [
              0,
              "#0d0887"
             ],
             [
              0.1111111111111111,
              "#46039f"
             ],
             [
              0.2222222222222222,
              "#7201a8"
             ],
             [
              0.3333333333333333,
              "#9c179e"
             ],
             [
              0.4444444444444444,
              "#bd3786"
             ],
             [
              0.5555555555555556,
              "#d8576b"
             ],
             [
              0.6666666666666666,
              "#ed7953"
             ],
             [
              0.7777777777777778,
              "#fb9f3a"
             ],
             [
              0.8888888888888888,
              "#fdca26"
             ],
             [
              1,
              "#f0f921"
             ]
            ],
            "type": "surface"
           }
          ],
          "table": [
           {
            "cells": {
             "fill": {
              "color": "#EBF0F8"
             },
             "line": {
              "color": "white"
             }
            },
            "header": {
             "fill": {
              "color": "#C8D4E3"
             },
             "line": {
              "color": "white"
             }
            },
            "type": "table"
           }
          ]
         },
         "layout": {
          "annotationdefaults": {
           "arrowcolor": "#2a3f5f",
           "arrowhead": 0,
           "arrowwidth": 1
          },
          "autotypenumbers": "strict",
          "coloraxis": {
           "colorbar": {
            "outlinewidth": 0,
            "ticks": ""
           }
          },
          "colorscale": {
           "diverging": [
            [
             0,
             "#8e0152"
            ],
            [
             0.1,
             "#c51b7d"
            ],
            [
             0.2,
             "#de77ae"
            ],
            [
             0.3,
             "#f1b6da"
            ],
            [
             0.4,
             "#fde0ef"
            ],
            [
             0.5,
             "#f7f7f7"
            ],
            [
             0.6,
             "#e6f5d0"
            ],
            [
             0.7,
             "#b8e186"
            ],
            [
             0.8,
             "#7fbc41"
            ],
            [
             0.9,
             "#4d9221"
            ],
            [
             1,
             "#276419"
            ]
           ],
           "sequential": [
            [
             0,
             "#0d0887"
            ],
            [
             0.1111111111111111,
             "#46039f"
            ],
            [
             0.2222222222222222,
             "#7201a8"
            ],
            [
             0.3333333333333333,
             "#9c179e"
            ],
            [
             0.4444444444444444,
             "#bd3786"
            ],
            [
             0.5555555555555556,
             "#d8576b"
            ],
            [
             0.6666666666666666,
             "#ed7953"
            ],
            [
             0.7777777777777778,
             "#fb9f3a"
            ],
            [
             0.8888888888888888,
             "#fdca26"
            ],
            [
             1,
             "#f0f921"
            ]
           ],
           "sequentialminus": [
            [
             0,
             "#0d0887"
            ],
            [
             0.1111111111111111,
             "#46039f"
            ],
            [
             0.2222222222222222,
             "#7201a8"
            ],
            [
             0.3333333333333333,
             "#9c179e"
            ],
            [
             0.4444444444444444,
             "#bd3786"
            ],
            [
             0.5555555555555556,
             "#d8576b"
            ],
            [
             0.6666666666666666,
             "#ed7953"
            ],
            [
             0.7777777777777778,
             "#fb9f3a"
            ],
            [
             0.8888888888888888,
             "#fdca26"
            ],
            [
             1,
             "#f0f921"
            ]
           ]
          },
          "colorway": [
           "#636efa",
           "#EF553B",
           "#00cc96",
           "#ab63fa",
           "#FFA15A",
           "#19d3f3",
           "#FF6692",
           "#B6E880",
           "#FF97FF",
           "#FECB52"
          ],
          "font": {
           "color": "#2a3f5f"
          },
          "geo": {
           "bgcolor": "white",
           "lakecolor": "white",
           "landcolor": "#E5ECF6",
           "showlakes": true,
           "showland": true,
           "subunitcolor": "white"
          },
          "hoverlabel": {
           "align": "left"
          },
          "hovermode": "closest",
          "mapbox": {
           "style": "light"
          },
          "paper_bgcolor": "white",
          "plot_bgcolor": "#E5ECF6",
          "polar": {
           "angularaxis": {
            "gridcolor": "white",
            "linecolor": "white",
            "ticks": ""
           },
           "bgcolor": "#E5ECF6",
           "radialaxis": {
            "gridcolor": "white",
            "linecolor": "white",
            "ticks": ""
           }
          },
          "scene": {
           "xaxis": {
            "backgroundcolor": "#E5ECF6",
            "gridcolor": "white",
            "gridwidth": 2,
            "linecolor": "white",
            "showbackground": true,
            "ticks": "",
            "zerolinecolor": "white"
           },
           "yaxis": {
            "backgroundcolor": "#E5ECF6",
            "gridcolor": "white",
            "gridwidth": 2,
            "linecolor": "white",
            "showbackground": true,
            "ticks": "",
            "zerolinecolor": "white"
           },
           "zaxis": {
            "backgroundcolor": "#E5ECF6",
            "gridcolor": "white",
            "gridwidth": 2,
            "linecolor": "white",
            "showbackground": true,
            "ticks": "",
            "zerolinecolor": "white"
           }
          },
          "shapedefaults": {
           "line": {
            "color": "#2a3f5f"
           }
          },
          "ternary": {
           "aaxis": {
            "gridcolor": "white",
            "linecolor": "white",
            "ticks": ""
           },
           "baxis": {
            "gridcolor": "white",
            "linecolor": "white",
            "ticks": ""
           },
           "bgcolor": "#E5ECF6",
           "caxis": {
            "gridcolor": "white",
            "linecolor": "white",
            "ticks": ""
           }
          },
          "title": {
           "x": 0.05
          },
          "xaxis": {
           "automargin": true,
           "gridcolor": "white",
           "linecolor": "white",
           "ticks": "",
           "title": {
            "standoff": 15
           },
           "zerolinecolor": "white",
           "zerolinewidth": 2
          },
          "yaxis": {
           "automargin": true,
           "gridcolor": "white",
           "linecolor": "white",
           "ticks": "",
           "title": {
            "standoff": 15
           },
           "zerolinecolor": "white",
           "zerolinewidth": 2
          }
         }
        },
        "title": {
         "text": "County racial demographics bar graph"
        },
        "width": 1000,
        "xaxis": {
         "anchor": "y",
         "domain": [
          0,
          1
         ],
         "title": {
          "text": "County"
         }
        },
        "yaxis": {
         "anchor": "x",
         "domain": [
          0,
          1
         ],
         "title": {
          "text": "sum of Percentage"
         }
        }
       }
      }
     },
     "metadata": {},
     "output_type": "display_data"
    }
   ],
   "source": [
    "fig = px.histogram(race, x= 'County', y= 'Percentage', color='Race', title='County racial demographics bar graph', barmode='group',width=1000,height=1000)\n",
    "fig.show()"
   ]
  }
 ],
 "metadata": {
  "kernelspec": {
   "display_name": "Python 3.9.12 ('base')",
   "language": "python",
   "name": "python3"
  },
  "language_info": {
   "codemirror_mode": {
    "name": "ipython",
    "version": 3
   },
   "file_extension": ".py",
   "mimetype": "text/x-python",
   "name": "python",
   "nbconvert_exporter": "python",
   "pygments_lexer": "ipython3",
   "version": "3.9.12"
  },
  "orig_nbformat": 4,
  "vscode": {
   "interpreter": {
    "hash": "d2ca519f905eef806fce23b718d55344bc1beb7da02b5ba960adacd11d7031e1"
   }
  }
 },
 "nbformat": 4,
 "nbformat_minor": 2
}
